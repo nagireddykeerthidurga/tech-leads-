{
  "nbformat": 4,
  "nbformat_minor": 0,
  "metadata": {
    "colab": {
      "provenance": [],
      "authorship_tag": "ABX9TyP+pVOyCNMIQvkhLCstYaFg",
      "include_colab_link": true
    },
    "kernelspec": {
      "name": "python3",
      "display_name": "Python 3"
    },
    "language_info": {
      "name": "python"
    }
  },
  "cells": [
    {
      "cell_type": "markdown",
      "metadata": {
        "id": "view-in-github",
        "colab_type": "text"
      },
      "source": [
        "<a href=\"https://colab.research.google.com/github/nagireddykeerthidurga/tech-leads-/blob/main/Untitled7.ipynb\" target=\"_parent\"><img src=\"https://colab.research.google.com/assets/colab-badge.svg\" alt=\"Open In Colab\"/></a>"
      ]
    },
    {
      "cell_type": "code",
      "execution_count": 1,
      "metadata": {
        "colab": {
          "base_uri": "https://localhost:8080/"
        },
        "id": "6ssbFzzys83P",
        "outputId": "1a2ffe40-7c3b-48e5-f93f-d6c3324272ad"
      },
      "outputs": [
        {
          "output_type": "stream",
          "name": "stdout",
          "text": [
            "enter your principal: 7\n",
            "enter your time:60\n",
            "enter your rate:7\n",
            "The interest is 29.4\n"
          ]
        }
      ],
      "source": [
        " P=int(input(\"enter your principal: \"))\n",
        "T=int(input(\"enter your time:\"))\n",
        "R=int(input(\"enter your rate:\"))\n",
        "interest=P*T*R/100\n",
        "print(\"The interest is\",interest)"
      ]
    }
  ]
}
