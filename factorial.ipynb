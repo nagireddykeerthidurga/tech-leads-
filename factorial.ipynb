{
  "nbformat": 4,
  "nbformat_minor": 0,
  "metadata": {
    "colab": {
      "provenance": [],
      "toc_visible": true,
      "authorship_tag": "ABX9TyN81yWZyHKJIvXgLDJFbLME",
      "include_colab_link": true
    },
    "kernelspec": {
      "name": "python3",
      "display_name": "Python 3"
    },
    "language_info": {
      "name": "python"
    }
  },
  "cells": [
    {
      "cell_type": "markdown",
      "metadata": {
        "id": "view-in-github",
        "colab_type": "text"
      },
      "source": [
        "<a href=\"https://colab.research.google.com/github/nagireddykeerthidurga/tech-leads-/blob/main/Untitled6.ipynb\" target=\"_parent\"><img src=\"https://colab.research.google.com/assets/colab-badge.svg\" alt=\"Open In Colab\"/></a>"
      ]
    },
    {
      "cell_type": "code",
      "execution_count": 8,
      "metadata": {
        "colab": {
          "base_uri": "https://localhost:8080/"
        },
        "id": "WUXQWu0EoGVo",
        "outputId": "006b1c85-fabe-40a9-ef9e-18e0ad74c49a"
      },
      "outputs": [
        {
          "output_type": "stream",
          "name": "stdout",
          "text": [
            "enter number8\n",
            "the factorial of n is 40320\n"
          ]
        }
      ],
      "source": [
        "n=int(input(\"enter number\"))\n",
        "f=1\n",
        "if n<0:\n",
        "    print(\"does not print negative numbers \")\n",
        "else:\n",
        "    for i in range(1,n+1):\n",
        "        f=f*i\n",
        "    print(\"the factorial of n is\",f)"
      ]
    }
  ]
}
